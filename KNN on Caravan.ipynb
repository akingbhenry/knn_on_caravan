{
 "cells": [
  {
   "cell_type": "code",
   "execution_count": 1,
   "id": "bff2424f",
   "metadata": {},
   "outputs": [],
   "source": [
    "import pandas as pd\n",
    "import numpy as np\n",
    "import matplotlib.pyplot as plt\n",
    "from sklearn.model_selection import train_test_split\n",
    "from sklearn.preprocessing import StandardScaler\n",
    "from sklearn.neighbors import KNeighborsClassifier\n",
    "from sklearn.metrics import confusion_matrix"
   ]
  },
  {
   "cell_type": "markdown",
   "id": "ba133939",
   "metadata": {},
   "source": [
    "### Importance of Scaling Variables"
   ]
  },
  {
   "cell_type": "markdown",
   "id": "d956ad92",
   "metadata": {},
   "source": [
    "Let us first generate $20$ instances where each instance is two-dimensional."
   ]
  },
  {
   "cell_type": "code",
   "execution_count": 2,
   "id": "e8d918ad",
   "metadata": {},
   "outputs": [],
   "source": [
    "np.random.seed(2)\n",
    "points = np.random.normal(0, 1, size=(2, 20))"
   ]
  },
  {
   "cell_type": "markdown",
   "id": "e533bb5c",
   "metadata": {},
   "source": [
    "If we plot them, we will have the following."
   ]
  },
  {
   "cell_type": "code",
   "execution_count": 3,
   "id": "df22a250",
   "metadata": {},
   "outputs": [
    {
     "data": {
      "image/png": "[encoded data removed]",
      "text/plain": [
       "<Figure size 432x288 with 1 Axes>"
      ]
     },
     "metadata": {
      "needs_background": "light"
     },
     "output_type": "display_data"
    }
   ],
   "source": [
    "plt.scatter(points[0], points[1])\n",
    "plt.plot(points[0][:2], points[1][:2], 'ro-')\n",
    "plt.xlabel(r'$X_1$', fontsize=15)\n",
    "plt.ylabel(r'$X_2$', fontsize=15)\n",
    "plt.show()"
   ]
  },
  {
   "cell_type": "markdown",
   "id": "9db05af4",
   "metadata": {},
   "source": [
    "Above, we have also connected two points with a line. We can see that these points are quite close to each other. Their distances in both directions are relatively close to each other."
   ]
  },
  {
   "cell_type": "markdown",
   "id": "6378f7c4",
   "metadata": {},
   "source": [
    "Now, let us multiply the $x_2$ value of each point by $10$. This is equivalent to increasing the scale of the second variable. Obviously, we have not lost any information, because the original $x_2$ value can always be retrieved by dividing the new value by $10$. So, we would hope that the result of any machine learning method would not change after such a re-scaling. However, in distance-based methods (such as KNN), this is not the case. Let us see the reason next."
   ]
  },
  {
   "cell_type": "code",
   "execution_count": 4,
   "id": "a5749231",
   "metadata": {},
   "outputs": [
    {
     "data": {
      "image/png": "[encoded data removed]",
      "text/plain": [
       "<Figure size 432x288 with 1 Axes>"
      ]
     },
     "metadata": {
      "needs_background": "light"
     },
     "output_type": "display_data"
    }
   ],
   "source": [
    "plt.scatter(points[0], 10*points[1])\n",
    "plt.plot(points[0][:2], 10*points[1][:2], 'ro-')\n",
    "plt.xlabel(r'$X_1$', fontsize=15)\n",
    "plt.ylabel(r'$X_2*10$', fontsize=15)\n",
    "plt.xlim([-30, 30])\n",
    "plt.ylim([-30, 30])\n",
    "plt.show()"
   ]
  },
  {
   "cell_type": "markdown",
   "id": "864f2431",
   "metadata": {},
   "source": [
    "As you can see, the distance is dominated by the vertical axis, and now the horizontal axis looks less important. This happened only by multiplying $x_2$ by $10$. Now think about a dataset of patient records, where some variables are some cell values between $10^{-4}$ to $10^{-6}$ and some other variables such as the age of a person can vary anywhere between $1$ to $120$. In this case all the distance will be dominated by the age, and our KNN method will just compare the ages of patients before deciding anything. Not very useful! We should keep this in mind now before starting with a KNN application."
   ]
  },
  {
   "cell_type": "markdown",
   "id": "4041feb6",
   "metadata": {},
   "source": [
    "### KNN on the `Caravan` Dataset"
   ]
  },
  {
   "cell_type": "markdown",
   "id": "ca3bc893",
   "metadata": {},
   "source": [
    "We use the `Caravan` dataset from the `ISLR` library. The explanation of the dataset can be found [here](https://cran.r-project.org/web/packages/ISLR/ISLR.pdf) and we download the csv file from [this GitHub repository](https://github.com/JWarmenhoven/ISLR-python)."
   ]
  },
  {
   "cell_type": "code",
   "execution_count": 5,
   "id": "9c2f752d",
   "metadata": {},
   "outputs": [],
   "source": [
    "df = pd.read_csv(\"https://raw.githubusercontent.com/JWarmenhoven/ISLR-python/master/Notebooks/Data/Caravan.csv\")\n",
    "df = df.drop(columns=df.columns[0])"
   ]
  },
  {
   "cell_type": "code",
   "execution_count": 6,
   "id": "f6cb2757",
   "metadata": {},
   "outputs": [
    {
     "data": {
      "text/html": [
       "<div>\n",
       "<style scoped>\n",
       "    .dataframe tbody tr th:only-of-type {\n",
       "        vertical-align: middle;\n",
       "    }\n",
       "\n",
       "    .dataframe tbody tr th {\n",
       "        vertical-align: top;\n",
       "    }\n",
       "\n",
       "    .dataframe thead th {\n",
       "        text-align: right;\n",
       "    }\n",
       "</style>\n",
       "<table border=\"1\" class=\"dataframe\">\n",
       "  <thead>\n",
       "    <tr style=\"text-align: right;\">\n",
       "      <th></th>\n",
       "      <th>MOSTYPE</th>\n",
       "      <th>MAANTHUI</th>\n",
       "      <th>MGEMOMV</th>\n",
       "      <th>MGEMLEEF</th>\n",
       "      <th>MOSHOOFD</th>\n",
       "      <th>MGODRK</th>\n",
       "      <th>MGODPR</th>\n",
       "      <th>MGODOV</th>\n",
       "      <th>MGODGE</th>\n",
       "      <th>MRELGE</th>\n",
       "      <th>...</th>\n",
       "      <th>APERSONG</th>\n",
       "      <th>AGEZONG</th>\n",
       "      <th>AWAOREG</th>\n",
       "      <th>ABRAND</th>\n",
       "      <th>AZEILPL</th>\n",
       "      <th>APLEZIER</th>\n",
       "      <th>AFIETS</th>\n",
       "      <th>AINBOED</th>\n",
       "      <th>ABYSTAND</th>\n",
       "      <th>Purchase</th>\n",
       "    </tr>\n",
       "  </thead>\n",
       "  <tbody>\n",
       "    <tr>\n",
       "      <th>0</th>\n",
       "      <td>33</td>\n",
       "      <td>1</td>\n",
       "      <td>3</td>\n",
       "      <td>2</td>\n",
       "      <td>8</td>\n",
       "      <td>0</td>\n",
       "      <td>5</td>\n",
       "      <td>1</td>\n",
       "      <td>3</td>\n",
       "      <td>7</td>\n",
       "      <td>...</td>\n",
       "      <td>0</td>\n",
       "      <td>0</td>\n",
       "      <td>0</td>\n",
       "      <td>1</td>\n",
       "      <td>0</td>\n",
       "      <td>0</td>\n",
       "      <td>0</td>\n",
       "      <td>0</td>\n",
       "      <td>0</td>\n",
       "      <td>No</td>\n",
       "    </tr>\n",
       "    <tr>\n",
       "      <th>1</th>\n",
       "      <td>37</td>\n",
       "      <td>1</td>\n",
       "      <td>2</td>\n",
       "      <td>2</td>\n",
       "      <td>8</td>\n",
       "      <td>1</td>\n",
       "      <td>4</td>\n",
       "      <td>1</td>\n",
       "      <td>4</td>\n",
       "      <td>6</td>\n",
       "      <td>...</td>\n",
       "      <td>0</td>\n",
       "      <td>0</td>\n",
       "      <td>0</td>\n",
       "      <td>1</td>\n",
       "      <td>0</td>\n",
       "      <td>0</td>\n",
       "      <td>0</td>\n",
       "      <td>0</td>\n",
       "      <td>0</td>\n",
       "      <td>No</td>\n",
       "    </tr>\n",
       "    <tr>\n",
       "      <th>2</th>\n",
       "      <td>37</td>\n",
       "      <td>1</td>\n",
       "      <td>2</td>\n",
       "      <td>2</td>\n",
       "      <td>8</td>\n",
       "      <td>0</td>\n",
       "      <td>4</td>\n",
       "      <td>2</td>\n",
       "      <td>4</td>\n",
       "      <td>3</td>\n",
       "      <td>...</td>\n",
       "      <td>0</td>\n",
       "      <td>0</td>\n",
       "      <td>0</td>\n",
       "      <td>1</td>\n",
       "      <td>0</td>\n",
       "      <td>0</td>\n",
       "      <td>0</td>\n",
       "      <td>0</td>\n",
       "      <td>0</td>\n",
       "      <td>No</td>\n",
       "    </tr>\n",
       "  </tbody>\n",
       "</table>\n",
       "<p>3 rows × 86 columns</p>\n",
       "</div>"
      ],
      "text/plain": [
       "   MOSTYPE  MAANTHUI  MGEMOMV  MGEMLEEF  MOSHOOFD  MGODRK  MGODPR  MGODOV  \\\n",
       "0       33         1        3         2         8       0       5       1   \n",
       "1       37         1        2         2         8       1       4       1   \n",
       "2       37         1        2         2         8       0       4       2   \n",
       "\n",
       "   MGODGE  MRELGE  ...  APERSONG  AGEZONG  AWAOREG  ABRAND  AZEILPL  APLEZIER  \\\n",
       "0       3       7  ...         0        0        0       1        0         0   \n",
       "1       4       6  ...         0        0        0       1        0         0   \n",
       "2       4       3  ...         0        0        0       1        0         0   \n",
       "\n",
       "   AFIETS  AINBOED  ABYSTAND  Purchase  \n",
       "0       0        0         0        No  \n",
       "1       0        0         0        No  \n",
       "2       0        0         0        No  \n",
       "\n",
       "[3 rows x 86 columns]"
      ]
     },
     "execution_count": 6,
     "metadata": {},
     "output_type": "execute_result"
    }
   ],
   "source": [
    "df.head(3)"
   ]
  },
  {
   "cell_type": "markdown",
   "id": "581a0956",
   "metadata": {},
   "source": [
    "#### Let's obtain some information on the target variable"
   ]
  },
  {
   "cell_type": "markdown",
   "id": "d26dbaae",
   "metadata": {},
   "source": [
    "We will try to classify whether the `Purchase` variable is a 'yes' or a 'no'. We will be checking if caravan insurances have been purchased by looking at this variable. Let us inspect this variable a little bit."
   ]
  },
  {
   "cell_type": "code",
   "execution_count": 7,
   "id": "dcce7869",
   "metadata": {},
   "outputs": [
    {
     "data": {
      "text/plain": [
       "array(['No', 'Yes'], dtype=object)"
      ]
     },
     "execution_count": 7,
     "metadata": {},
     "output_type": "execute_result"
    }
   ],
   "source": [
    "df.Purchase.unique() #there are only \"Yes\" and \"No\"s "
   ]
  },
  {
   "cell_type": "code",
   "execution_count": 8,
   "id": "76df3b7f",
   "metadata": {},
   "outputs": [
    {
     "data": {
      "text/plain": [
       "count     5822\n",
       "unique       2\n",
       "top         No\n",
       "freq      5474\n",
       "Name: Purchase, dtype: object"
      ]
     },
     "execution_count": 8,
     "metadata": {},
     "output_type": "execute_result"
    }
   ],
   "source": [
    "df['Purchase'].describe() #We can see that 5,474 of the 5,822 rows have \"No\" target -- the target is quite imbalanced."
   ]
  },
  {
   "cell_type": "code",
   "execution_count": 9,
   "id": "51d15e6d",
   "metadata": {},
   "outputs": [
    {
     "data": {
      "text/plain": [
       "No     5474\n",
       "Yes     348\n",
       "Name: Purchase, dtype: int64"
      ]
     },
     "execution_count": 9,
     "metadata": {},
     "output_type": "execute_result"
    }
   ],
   "source": [
    "df['Purchase'].value_counts()"
   ]
  },
  {
   "cell_type": "code",
   "execution_count": 10,
   "id": "45bc14ba",
   "metadata": {
    "scrolled": true
   },
   "outputs": [
    {
     "data": {
      "text/plain": [
       "No     0.940227\n",
       "Yes    0.059773\n",
       "Name: Purchase, dtype: float64"
      ]
     },
     "execution_count": 10,
     "metadata": {},
     "output_type": "execute_result"
    }
   ],
   "source": [
    "df['Purchase'].value_counts(normalize = True) #so if we always say \"No\", then "
   ]
  },
  {
   "cell_type": "markdown",
   "id": "904f5239",
   "metadata": {},
   "source": [
    "#### Standardize the predictors of the dataframe only (keep the target as we want to keep the 0/1 structure)"
   ]
  },
  {
   "cell_type": "code",
   "execution_count": 11,
   "id": "55614390",
   "metadata": {},
   "outputs": [],
   "source": [
    "scaler = StandardScaler()\n",
    "df_scaled = pd.DataFrame(scaler.fit_transform(df.iloc[:,:-1]),columns = df.columns[:-1]) #scale the predictors"
   ]
  },
  {
   "cell_type": "code",
   "execution_count": 12,
   "id": "533b2618",
   "metadata": {
    "scrolled": true
   },
   "outputs": [
    {
     "data": {
      "text/plain": [
       "MOSTYPE    -0.0\n",
       "MAANTHUI   -0.0\n",
       "MGEMOMV     0.0\n",
       "MGEMLEEF    0.0\n",
       "MOSHOOFD    0.0\n",
       "           ... \n",
       "AZEILPL    -0.0\n",
       "APLEZIER   -0.0\n",
       "AFIETS     -0.0\n",
       "AINBOED     0.0\n",
       "ABYSTAND   -0.0\n",
       "Length: 85, dtype: float64"
      ]
     },
     "execution_count": 12,
     "metadata": {},
     "output_type": "execute_result"
    }
   ],
   "source": [
    "round(df_scaled.mean(),3)"
   ]
  },
  {
   "cell_type": "code",
   "execution_count": 13,
   "id": "17f7717f",
   "metadata": {
    "scrolled": true
   },
   "outputs": [
    {
     "data": {
      "text/plain": [
       "MOSTYPE     1.0\n",
       "MAANTHUI    1.0\n",
       "MGEMOMV     1.0\n",
       "MGEMLEEF    1.0\n",
       "MOSHOOFD    1.0\n",
       "           ... \n",
       "AZEILPL     1.0\n",
       "APLEZIER    1.0\n",
       "AFIETS      1.0\n",
       "AINBOED     1.0\n",
       "ABYSTAND    1.0\n",
       "Length: 85, dtype: float64"
      ]
     },
     "execution_count": 13,
     "metadata": {},
     "output_type": "execute_result"
    }
   ],
   "source": [
    "round(df_scaled.std(),3)"
   ]
  },
  {
   "cell_type": "code",
   "execution_count": 14,
   "id": "6bc959f5",
   "metadata": {},
   "outputs": [],
   "source": [
    "df_scaled[\"Purchase\"] = df.Purchase.copy()"
   ]
  },
  {
   "cell_type": "markdown",
   "id": "d4ce7e1c",
   "metadata": {},
   "source": [
    "Technically, scaling the whole dataframe at once is not a correct approach because we will later split it as training/test datasets. For now, this is not a big deal because here we are just showing how to use KNN. However, in the future, this will be a problem. The reason is, we are peaking ahead to the test data by using it to scale the data. So, indirectly, the test set plays a role in the training steps if we scale the whole dataframe."
   ]
  },
  {
   "cell_type": "markdown",
   "id": "14c59f82",
   "metadata": {},
   "source": [
    "#### Let us create the dataframe with predictors and only the target and then sample 20% of the dataset as a test set."
   ]
  },
  {
   "cell_type": "code",
   "execution_count": 15,
   "id": "f84c6a42",
   "metadata": {},
   "outputs": [],
   "source": [
    "train, test = train_test_split(df_scaled, test_size=0.2) #test_size 0.2 means 20% of the dataset will be sampled\n",
    "#train.shape[0] + test.shape[0] == df.shape[0] #should be true! (why?)"
   ]
  },
  {
   "cell_type": "code",
   "execution_count": 16,
   "id": "dab3671c",
   "metadata": {},
   "outputs": [],
   "source": [
    "X_train = train.drop(columns=\"Purchase\") #drop the purchase column\n",
    "y_train = train.Purchase #take the purchase column\n",
    "\n",
    "X_test = test.drop(columns=\"Purchase\")\n",
    "y_test = test.Purchase"
   ]
  },
  {
   "cell_type": "markdown",
   "id": "d4dd12db",
   "metadata": {},
   "source": [
    "#### Now we are ready to fit a KNN model"
   ]
  },
  {
   "cell_type": "code",
   "execution_count": 17,
   "id": "bfc1aaea",
   "metadata": {},
   "outputs": [
    {
     "data": {
      "text/plain": [
       "KNeighborsClassifier(n_neighbors=1)"
      ]
     },
     "execution_count": 17,
     "metadata": {},
     "output_type": "execute_result"
    }
   ],
   "source": [
    "neigh = KNeighborsClassifier(n_neighbors=1) #train a KNN with K = 1\n",
    "neigh.fit(X_train, y_train) #fit it to our training set"
   ]
  },
  {
   "cell_type": "code",
   "execution_count": 18,
   "id": "fc3af9df",
   "metadata": {},
   "outputs": [],
   "source": [
    "y_pred = neigh.predict(X_test) #predict the test set"
   ]
  },
  {
   "cell_type": "code",
   "execution_count": 19,
   "id": "0f0368da",
   "metadata": {},
   "outputs": [
    {
     "data": {
      "text/plain": [
       "array([[1019,   73],\n",
       "       [  64,    9]])"
      ]
     },
     "execution_count": 19,
     "metadata": {},
     "output_type": "execute_result"
    }
   ],
   "source": [
    "cm_1 = confusion_matrix(y_test, y_pred)#first row of the confusion matrix will be the true \"No\"s and second row \"Yes\"s\n",
    "cm_1"
   ]
  },
  {
   "cell_type": "markdown",
   "id": "2539c499",
   "metadata": {},
   "source": [
    "#### Let us write a function that takes the \"K\" value and returns all the statistics that we are interested in."
   ]
  },
  {
   "cell_type": "code",
   "execution_count": 20,
   "id": "de82ac4e",
   "metadata": {},
   "outputs": [],
   "source": [
    "def k_stats(k, X_train, y_train, X_test, y_test):\n",
    "    neigh = KNeighborsClassifier(n_neighbors=k) #train a KNN with K = 1\n",
    "    neigh.fit(X_train, y_train) #fit it to our training set\n",
    "    y_pred = neigh.predict(X_test) #predict the test set\n",
    "    cm = confusion_matrix(y_test, y_pred)\n",
    "    nr_pos = np.sum(y_pred == \"Yes\")\n",
    "    true_neg = cm[0][0]\n",
    "    true_pos = cm[1][1]\n",
    "    false_pos = cm[0][1]\n",
    "    false_neg = cm[1][0]\n",
    "    misclassification_rate = (false_pos + false_neg)/np.sum(cm)\n",
    "    precision = true_pos / (true_pos + false_pos) #out of all times we say positives what percent we are accurate\n",
    "    sensitivity = true_pos / (true_pos + false_neg) #or recall (out of positives what percent can we guess)\n",
    "    return nr_pos, true_pos, misclassification_rate, precision, sensitivity"
   ]
  },
  {
   "cell_type": "markdown",
   "id": "55406ec7",
   "metadata": {},
   "source": [
    "#### Question: Deliverable on KNN method\n",
    "Use the `k_stats` function in a for loop and report the results obtained by the KNN method for $K=1,3,5,7,9$. To this end, create a pandas dataframe with columns `K`, `number pos`, `true pos`, `misclassification`, `precision`, `sensitivity`. Analyze the misclassification vs. sensitivity tradeoff with respect to increasing $K$. Compare your results with the classifier which always says \"No\"."
   ]
  },
  {
   "cell_type": "markdown",
   "id": "8f16e782",
   "metadata": {},
   "source": [
    "#### Answer: We construct a dataframe which includes the \"K\" hyperparameter and the test statistics KNN with this K achieves."
   ]
  },
  {
   "cell_type": "code",
   "execution_count": 21,
   "id": "771e964c",
   "metadata": {},
   "outputs": [],
   "source": [
    "df_knn = pd.DataFrame(columns=['K','number pos', 'true pos', 'misclassification','precision','sensitivity'])"
   ]
  },
  {
   "cell_type": "markdown",
   "id": "20f86222",
   "metadata": {},
   "source": [
    "Here the first column is the \"K\" value we use. The second column, `number pos`, is the number of times our method says \"Yes\" for a test instance. `true pos` is the number of times these are indeed \"Yes\" instances (true positive classification). Moreover, we give the misclassification rate, precision, and senstivity."
   ]
  },
  {
   "cell_type": "code",
   "execution_count": 22,
   "id": "4d231b4c",
   "metadata": {},
   "outputs": [],
   "source": [
    "for k in range(5):\n",
    "    nr_pos, true_pos, mc, pre, sens = k_stats(2*k+1, X_train, y_train, X_test, y_test)\n",
    "    df_knn.loc[k] = [2*k+1,nr_pos, true_pos, mc, pre, sens]\n",
    "df_knn[\"K\"] = pd.to_numeric(df_knn.K, downcast='integer')\n",
    "df_knn[\"number pos\"] = pd.to_numeric(df_knn[\"number pos\"], downcast='integer')\n",
    "df_knn[\"true pos\"] = pd.to_numeric(df_knn[\"true pos\"], downcast='integer')"
   ]
  },
  {
   "cell_type": "code",
   "execution_count": 23,
   "id": "ca9adf51",
   "metadata": {
    "scrolled": false
   },
   "outputs": [
    {
     "data": {
      "text/html": [
       "<style  type=\"text/css\" >\n",
       "</style><table id=\"T_40e71_\" ><thead>    <tr>        <th class=\"col_heading level0 col0\" >K</th>        <th class=\"col_heading level0 col1\" >number pos</th>        <th class=\"col_heading level0 col2\" >true pos</th>        <th class=\"col_heading level0 col3\" >misclassification</th>        <th class=\"col_heading level0 col4\" >precision</th>        <th class=\"col_heading level0 col5\" >sensitivity</th>    </tr></thead><tbody>\n",
       "                <tr>\n",
       "                                <td id=\"T_40e71_row0_col0\" class=\"data row0 col0\" >1</td>\n",
       "                        <td id=\"T_40e71_row0_col1\" class=\"data row0 col1\" >82</td>\n",
       "                        <td id=\"T_40e71_row0_col2\" class=\"data row0 col2\" >9</td>\n",
       "                        <td id=\"T_40e71_row0_col3\" class=\"data row0 col3\" >0.117597</td>\n",
       "                        <td id=\"T_40e71_row0_col4\" class=\"data row0 col4\" >0.109756</td>\n",
       "                        <td id=\"T_40e71_row0_col5\" class=\"data row0 col5\" >0.123288</td>\n",
       "            </tr>\n",
       "            <tr>\n",
       "                                <td id=\"T_40e71_row1_col0\" class=\"data row1 col0\" >3</td>\n",
       "                        <td id=\"T_40e71_row1_col1\" class=\"data row1 col1\" >37</td>\n",
       "                        <td id=\"T_40e71_row1_col2\" class=\"data row1 col2\" >7</td>\n",
       "                        <td id=\"T_40e71_row1_col3\" class=\"data row1 col3\" >0.082403</td>\n",
       "                        <td id=\"T_40e71_row1_col4\" class=\"data row1 col4\" >0.189189</td>\n",
       "                        <td id=\"T_40e71_row1_col5\" class=\"data row1 col5\" >0.095890</td>\n",
       "            </tr>\n",
       "            <tr>\n",
       "                                <td id=\"T_40e71_row2_col0\" class=\"data row2 col0\" >5</td>\n",
       "                        <td id=\"T_40e71_row2_col1\" class=\"data row2 col1\" >7</td>\n",
       "                        <td id=\"T_40e71_row2_col2\" class=\"data row2 col2\" >3</td>\n",
       "                        <td id=\"T_40e71_row2_col3\" class=\"data row2 col3\" >0.063519</td>\n",
       "                        <td id=\"T_40e71_row2_col4\" class=\"data row2 col4\" >0.428571</td>\n",
       "                        <td id=\"T_40e71_row2_col5\" class=\"data row2 col5\" >0.041096</td>\n",
       "            </tr>\n",
       "            <tr>\n",
       "                                <td id=\"T_40e71_row3_col0\" class=\"data row3 col0\" >7</td>\n",
       "                        <td id=\"T_40e71_row3_col1\" class=\"data row3 col1\" >3</td>\n",
       "                        <td id=\"T_40e71_row3_col2\" class=\"data row3 col2\" >1</td>\n",
       "                        <td id=\"T_40e71_row3_col3\" class=\"data row3 col3\" >0.063519</td>\n",
       "                        <td id=\"T_40e71_row3_col4\" class=\"data row3 col4\" >0.333333</td>\n",
       "                        <td id=\"T_40e71_row3_col5\" class=\"data row3 col5\" >0.013699</td>\n",
       "            </tr>\n",
       "            <tr>\n",
       "                                <td id=\"T_40e71_row4_col0\" class=\"data row4 col0\" >9</td>\n",
       "                        <td id=\"T_40e71_row4_col1\" class=\"data row4 col1\" >2</td>\n",
       "                        <td id=\"T_40e71_row4_col2\" class=\"data row4 col2\" >1</td>\n",
       "                        <td id=\"T_40e71_row4_col3\" class=\"data row4 col3\" >0.062661</td>\n",
       "                        <td id=\"T_40e71_row4_col4\" class=\"data row4 col4\" >0.500000</td>\n",
       "                        <td id=\"T_40e71_row4_col5\" class=\"data row4 col5\" >0.013699</td>\n",
       "            </tr>\n",
       "    </tbody></table>"
      ],
      "text/plain": [
       "<pandas.io.formats.style.Styler at 0x7fc670e32970>"
      ]
     },
     "execution_count": 23,
     "metadata": {},
     "output_type": "execute_result"
    }
   ],
   "source": [
    "df_knn.style.hide_index()"
   ]
  },
  {
   "cell_type": "markdown",
   "id": "ad893f39",
   "metadata": {},
   "source": [
    "Here, we can see that the more \"K\" we pick, the more misclassification error we get. However, see the following:"
   ]
  },
  {
   "cell_type": "code",
   "execution_count": 24,
   "id": "017f27d6",
   "metadata": {},
   "outputs": [
    {
     "data": {
      "text/plain": [
       "No     0.937339\n",
       "Yes    0.062661\n",
       "Name: Purchase, dtype: float64"
      ]
     },
     "execution_count": 24,
     "metadata": {},
     "output_type": "execute_result"
    }
   ],
   "source": [
    "y_test.value_counts(normalize = True)"
   ]
  },
  {
   "cell_type": "markdown",
   "id": "99e469b4",
   "metadata": {},
   "source": [
    "Here we can see that even if we say \"No\" all the time, our misclassification rate will be already $6.6 \\%$. So, the fact that having a lower misclassification rate when we increase $K$ is not very surprising, as we can observe from `df_knn` that the larger $K$ gets the less we predict \"Yes\". So misclassification should not be our main metric here. We might for example be interested in $K=3$ where we still have an $8.2 \\%$ misclassification rate, but we still find $7$ of the positives compared to $1$ positive in the case of $K=9$. This is a decision where managerial insights will play a role."
   ]
  }
 ],
 "metadata": {
  "kernelspec": {
   "display_name": "Python 3 (ipykernel)",
   "language": "python",
   "name": "python3"
  },
  "language_info": {
   "codemirror_mode": {
    "name": "ipython",
    "version": 3
   },
   "file_extension": ".py",
   "mimetype": "text/x-python",
   "name": "python",
   "nbconvert_exporter": "python",
   "pygments_lexer": "ipython3",
   "version": "3.8.8"
  }
 },
 "nbformat": 4,
 "nbformat_minor": 5
}
